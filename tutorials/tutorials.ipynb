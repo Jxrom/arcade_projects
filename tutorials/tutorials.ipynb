{
 "cells": [
  {
   "cell_type": "code",
   "execution_count": 1,
   "metadata": {},
   "outputs": [
    {
     "name": "stdout",
     "output_type": "stream",
     "text": [
      "31\n",
      "131\n"
     ]
    }
   ],
   "source": [
    "import random\n",
    "\n",
    "# Random number range from 1-49\n",
    "my_number = random.randrange(50)\n",
    "\n",
    "# Random number range from 100-200\n",
    "my_number2 = random.randrange(100, 201)\n",
    "\n",
    "print(my_number)\n",
    "print(my_number2)"
   ]
  },
  {
   "cell_type": "code",
   "execution_count": 2,
   "metadata": {},
   "outputs": [
    {
     "name": "stdout",
     "output_type": "stream",
     "text": [
      "No Dragon. :(\n",
      "DRAGON!!!\n",
      "No Dragon. :(\n",
      "No Dragon. :(\n",
      "No Dragon. :(\n",
      "DRAGON!!!\n",
      "DRAGON!!!\n",
      "No Dragon. :(\n",
      "No Dragon. :(\n",
      "No Dragon. :(\n",
      "No Dragon. :(\n",
      "No Dragon. :(\n",
      "No Dragon. :(\n",
      "No Dragon. :(\n",
      "No Dragon. :(\n",
      "No Dragon. :(\n",
      "No Dragon. :(\n",
      "DRAGON!!!\n",
      "No Dragon. :(\n",
      "No Dragon. :(\n"
     ]
    }
   ],
   "source": [
    "\n",
    "# 25% change of meeting the dragon\n",
    "for i in range(20):\n",
    "    if random.randrange(5) == 0:\n",
    "        print(\"DRAGON!!!\")\n",
    "    else:\n",
    "        print(\"No Dragon. :(\")"
   ]
  },
  {
   "cell_type": "code",
   "execution_count": 3,
   "metadata": {},
   "outputs": [
    {
     "name": "stdout",
     "output_type": "stream",
     "text": [
      "0.21182576223799854\n"
     ]
    }
   ],
   "source": [
    "# Random float number\n",
    "my_number3 = random.random()\n",
    "\n",
    "print(my_number3)"
   ]
  },
  {
   "cell_type": "code",
   "execution_count": 4,
   "metadata": {},
   "outputs": [
    {
     "name": "stdout",
     "output_type": "stream",
     "text": [
      "10.475691780236712\n"
     ]
    }
   ],
   "source": [
    "my_number4 = random.random() * 5 + 10\n",
    "\n",
    "print(my_number4)"
   ]
  },
  {
   "attachments": {},
   "cell_type": "markdown",
   "metadata": {},
   "source": [
    "### **Advance Looping**"
   ]
  },
  {
   "cell_type": "code",
   "execution_count": 16,
   "metadata": {},
   "outputs": [
    {
     "name": "stdout",
     "output_type": "stream",
     "text": [
      "* * * * * * * * * * "
     ]
    }
   ],
   "source": [
    "for i in range(10):\n",
    "    print(\"*\", end=\" \")"
   ]
  },
  {
   "cell_type": "code",
   "execution_count": 15,
   "metadata": {},
   "outputs": [
    {
     "name": "stdout",
     "output_type": "stream",
     "text": [
      "* * * * * * * * * * \n",
      "* * * * * \n",
      "* * * * * * * * * * * * * * * * * * * * "
     ]
    }
   ],
   "source": [
    "for i in range(10):\n",
    "    print(\"*\", end=\" \")\n",
    "print()\n",
    "for i in range(5):\n",
    "    print(\"*\", end=\" \")\n",
    "print()\n",
    "for i in range(20):\n",
    "    print(\"*\", end=\" \")"
   ]
  },
  {
   "cell_type": "code",
   "execution_count": 14,
   "metadata": {},
   "outputs": [
    {
     "name": "stdout",
     "output_type": "stream",
     "text": [
      "\n",
      "* * * * * * * * * * \n",
      "* * * * * * * * * * \n",
      "* * * * * * * * * * \n",
      "* * * * * * * * * * \n",
      "* * * * * * * * * * \n",
      "* * * * * * * * * * \n",
      "* * * * * * * * * * \n",
      "* * * * * * * * * * \n",
      "* * * * * * * * * * \n",
      "* * * * * * * * * * "
     ]
    }
   ],
   "source": [
    "for i in range(10):\n",
    "    print()\n",
    "    for i in range(10):  \n",
    "        print(\"*\", end=\" \")"
   ]
  },
  {
   "cell_type": "code",
   "execution_count": 13,
   "metadata": {},
   "outputs": [
    {
     "name": "stdout",
     "output_type": "stream",
     "text": [
      "\n",
      "* * * * * \n",
      "* * * * * \n",
      "* * * * * \n",
      "* * * * * \n",
      "* * * * * \n",
      "* * * * * \n",
      "* * * * * \n",
      "* * * * * \n",
      "* * * * * \n",
      "* * * * * "
     ]
    }
   ],
   "source": [
    "for i in range(10):\n",
    "    print()\n",
    "    for i in range(5):  \n",
    "        print(\"*\", end=\" \")"
   ]
  },
  {
   "cell_type": "code",
   "execution_count": 12,
   "metadata": {},
   "outputs": [
    {
     "name": "stdout",
     "output_type": "stream",
     "text": [
      "\n",
      "* * * * * * * * * * * * * * * * * * * * \n",
      "* * * * * * * * * * * * * * * * * * * * \n",
      "* * * * * * * * * * * * * * * * * * * * \n",
      "* * * * * * * * * * * * * * * * * * * * \n",
      "* * * * * * * * * * * * * * * * * * * * "
     ]
    }
   ],
   "source": [
    "for i in range(5):\n",
    "    print()\n",
    "    for i in range(20):  \n",
    "        print(\"*\", end=\" \")"
   ]
  },
  {
   "cell_type": "code",
   "execution_count": 19,
   "metadata": {},
   "outputs": [
    {
     "name": "stdout",
     "output_type": "stream",
     "text": [
      "\n",
      "0 1 2 3 4 5 6 7 8 9 \n",
      "0 1 2 3 4 5 6 7 8 9 \n",
      "0 1 2 3 4 5 6 7 8 9 \n",
      "0 1 2 3 4 5 6 7 8 9 \n",
      "0 1 2 3 4 5 6 7 8 9 \n",
      "0 1 2 3 4 5 6 7 8 9 \n",
      "0 1 2 3 4 5 6 7 8 9 \n",
      "0 1 2 3 4 5 6 7 8 9 \n",
      "0 1 2 3 4 5 6 7 8 9 \n",
      "0 1 2 3 4 5 6 7 8 9 "
     ]
    }
   ],
   "source": [
    "for i in range(10):\n",
    "    print()\n",
    "    for j in range(10):\n",
    "        print(j, end=\" \")"
   ]
  },
  {
   "cell_type": "code",
   "execution_count": 20,
   "metadata": {},
   "outputs": [
    {
     "name": "stdout",
     "output_type": "stream",
     "text": [
      "\n",
      "0 0 0 0 0 0 0 0 0 0 \n",
      "1 1 1 1 1 1 1 1 1 1 \n",
      "2 2 2 2 2 2 2 2 2 2 \n",
      "3 3 3 3 3 3 3 3 3 3 \n",
      "4 4 4 4 4 4 4 4 4 4 \n",
      "5 5 5 5 5 5 5 5 5 5 \n",
      "6 6 6 6 6 6 6 6 6 6 \n",
      "7 7 7 7 7 7 7 7 7 7 \n",
      "8 8 8 8 8 8 8 8 8 8 \n",
      "9 9 9 9 9 9 9 9 9 9 "
     ]
    }
   ],
   "source": [
    "for i in range(10):\n",
    "    print()\n",
    "    for j in range(10):\n",
    "        print(i, end=\" \")"
   ]
  },
  {
   "cell_type": "code",
   "execution_count": 26,
   "metadata": {},
   "outputs": [
    {
     "name": "stdout",
     "output_type": "stream",
     "text": [
      "\n",
      "0 \n",
      "0 1 \n",
      "0 1 2 \n",
      "0 1 2 3 \n",
      "0 1 2 3 4 \n",
      "0 1 2 3 4 5 \n",
      "0 1 2 3 4 5 6 \n",
      "0 1 2 3 4 5 6 7 \n",
      "0 1 2 3 4 5 6 7 8 \n",
      "0 1 2 3 4 5 6 7 8 9 "
     ]
    }
   ],
   "source": [
    "for i in range(10):\n",
    "    print()\n",
    "    for j in range(i+1):\n",
    "        print(j, end=\" \")"
   ]
  },
  {
   "cell_type": "code",
   "execution_count": 33,
   "metadata": {},
   "outputs": [
    {
     "name": "stdout",
     "output_type": "stream",
     "text": [
      "0 1 2 3 4 5 6 7 8 9 \n",
      "  0 1 2 3 4 5 6 7 8 \n",
      "    0 1 2 3 4 5 6 7 \n",
      "      0 1 2 3 4 5 6 \n",
      "        0 1 2 3 4 5 \n",
      "          0 1 2 3 4 \n",
      "            0 1 2 3 \n",
      "              0 1 2 \n",
      "                0 1 \n",
      "                  0 \n"
     ]
    }
   ],
   "source": [
    "for i in range(10):\n",
    "    for j in range(i):\n",
    "          print(\" \", end=\" \")\n",
    "    for j in range(10 - i):\n",
    "            print(j, end=\" \")\n",
    "    print()"
   ]
  },
  {
   "attachments": {},
   "cell_type": "markdown",
   "metadata": {},
   "source": [
    "### **Introduction to Lists**"
   ]
  },
  {
   "attachments": {},
   "cell_type": "markdown",
   "metadata": {},
   "source": [
    "Data Types"
   ]
  },
  {
   "cell_type": "code",
   "execution_count": 1,
   "metadata": {},
   "outputs": [
    {
     "name": "stdout",
     "output_type": "stream",
     "text": [
      "x =  3 and is of type <class 'int'>\n",
      "x = 3.145 and is of type: <class 'float'>\n",
      "x = Hi there and is of type: <class 'str'>\n",
      "x = True and is of type: <class 'bool'>\n"
     ]
    }
   ],
   "source": [
    "x = 3 \n",
    "print(\"x = \", x, \"and is of type\", type(x))\n",
    "\n",
    "x = 3.145\n",
    "print(\"x =\", x, \"and is of type:\", type(x))\n",
    "\n",
    "x = \"Hi there\"\n",
    "print(\"x =\", x, \"and is of type:\", type(x))\n",
    "\n",
    "x = True\n",
    "print(\"x =\", x, \"and is of type:\", type(x))"
   ]
  },
  {
   "cell_type": "code",
   "execution_count": 2,
   "metadata": {},
   "outputs": [
    {
     "name": "stdout",
     "output_type": "stream",
     "text": [
      "x = (2, 3, 4, 5) and is of type: <class 'tuple'>\n",
      "x = [2, 3, 4, 5] and is of type: <class 'list'>\n"
     ]
    }
   ],
   "source": [
    "x = (2, 3, 4, 5)\n",
    "print(\"x =\", x, \"and is of type:\", type(x))\n",
    "\n",
    "x = [2, 3, 4, 5]\n",
    "print(\"x =\", x, \"and is of type:\", type(x))"
   ]
  },
  {
   "attachments": {},
   "cell_type": "markdown",
   "metadata": {},
   "source": [
    "Working With Lists"
   ]
  },
  {
   "cell_type": "code",
   "execution_count": 3,
   "metadata": {},
   "outputs": [
    {
     "name": "stdout",
     "output_type": "stream",
     "text": [
      "[10, 20]\n"
     ]
    }
   ],
   "source": [
    "x = [10, 20]\n",
    "print(x)"
   ]
  },
  {
   "cell_type": "code",
   "execution_count": 5,
   "metadata": {},
   "outputs": [
    {
     "name": "stdout",
     "output_type": "stream",
     "text": [
      "10\n"
     ]
    }
   ],
   "source": [
    "print(x[0])"
   ]
  },
  {
   "cell_type": "code",
   "execution_count": 6,
   "metadata": {},
   "outputs": [
    {
     "name": "stdout",
     "output_type": "stream",
     "text": [
      "30\n"
     ]
    }
   ],
   "source": [
    "x = [10, 20, 30]\n",
    "print(x[-1])"
   ]
  },
  {
   "cell_type": "code",
   "execution_count": 7,
   "metadata": {},
   "outputs": [
    {
     "name": "stdout",
     "output_type": "stream",
     "text": [
      "[1, 2]\n",
      "[22, 2]\n"
     ]
    }
   ],
   "source": [
    "x = [1, 2]\n",
    "print(x)\n",
    "\n",
    "x[0] = 22\n",
    "print(x)"
   ]
  },
  {
   "cell_type": "code",
   "execution_count": 8,
   "metadata": {},
   "outputs": [
    {
     "name": "stdout",
     "output_type": "stream",
     "text": [
      "(1, 2)\n"
     ]
    },
    {
     "ename": "TypeError",
     "evalue": "'tuple' object does not support item assignment",
     "output_type": "error",
     "traceback": [
      "\u001b[1;31m---------------------------------------------------------------------------\u001b[0m",
      "\u001b[1;31mTypeError\u001b[0m                                 Traceback (most recent call last)",
      "\u001b[1;32md:\\My Documents\\My Projects\\Summer Projects\\Arcade\\arcade_projects\\tutorials\\tutorials.ipynb Cell 24\u001b[0m in \u001b[0;36m4\n\u001b[0;32m      <a href='vscode-notebook-cell:/d%3A/My%20Documents/My%20Projects/Summer%20Projects/Arcade/arcade_projects/tutorials/tutorials.ipynb#X32sZmlsZQ%3D%3D?line=0'>1</a>\u001b[0m x \u001b[39m=\u001b[39m (\u001b[39m1\u001b[39m, \u001b[39m2\u001b[39m)\n\u001b[0;32m      <a href='vscode-notebook-cell:/d%3A/My%20Documents/My%20Projects/Summer%20Projects/Arcade/arcade_projects/tutorials/tutorials.ipynb#X32sZmlsZQ%3D%3D?line=1'>2</a>\u001b[0m \u001b[39mprint\u001b[39m(x)\n\u001b[1;32m----> <a href='vscode-notebook-cell:/d%3A/My%20Documents/My%20Projects/Summer%20Projects/Arcade/arcade_projects/tutorials/tutorials.ipynb#X32sZmlsZQ%3D%3D?line=3'>4</a>\u001b[0m x[\u001b[39m0\u001b[39;49m] \u001b[39m=\u001b[39m \u001b[39m22\u001b[39m\n\u001b[0;32m      <a href='vscode-notebook-cell:/d%3A/My%20Documents/My%20Projects/Summer%20Projects/Arcade/arcade_projects/tutorials/tutorials.ipynb#X32sZmlsZQ%3D%3D?line=4'>5</a>\u001b[0m \u001b[39mprint\u001b[39m(x)\n",
      "\u001b[1;31mTypeError\u001b[0m: 'tuple' object does not support item assignment"
     ]
    }
   ],
   "source": [
    "x = (1, 2)\n",
    "print(x)\n",
    "\n",
    "x[0] = 22\n",
    "print(x)"
   ]
  },
  {
   "attachments": {},
   "cell_type": "markdown",
   "metadata": {},
   "source": [
    "Create an Empty List"
   ]
  },
  {
   "cell_type": "code",
   "execution_count": 9,
   "metadata": {},
   "outputs": [],
   "source": [
    "my_list = []"
   ]
  },
  {
   "cell_type": "code",
   "execution_count": 10,
   "metadata": {},
   "outputs": [
    {
     "name": "stdout",
     "output_type": "stream",
     "text": [
      "[(255, 255, 255), (224, 224, 244), (125, 125, 125)]\n"
     ]
    }
   ],
   "source": [
    "rgb_colors = [(255, 255, 255), (224, 224, 244), (125, 125, 125)]\n",
    "\n",
    "print(rgb_colors)"
   ]
  },
  {
   "cell_type": "code",
   "execution_count": 11,
   "metadata": {},
   "outputs": [
    {
     "name": "stdout",
     "output_type": "stream",
     "text": [
      "(255, 255, 255)\n"
     ]
    }
   ],
   "source": [
    "print(rgb_colors[0])"
   ]
  },
  {
   "cell_type": "code",
   "execution_count": 12,
   "metadata": {},
   "outputs": [
    {
     "name": "stdout",
     "output_type": "stream",
     "text": [
      "<class 'tuple'>\n"
     ]
    }
   ],
   "source": [
    "print(type(rgb_colors[0]))"
   ]
  },
  {
   "cell_type": "code",
   "execution_count": 13,
   "metadata": {},
   "outputs": [
    {
     "name": "stdout",
     "output_type": "stream",
     "text": [
      "<class 'list'>\n"
     ]
    }
   ],
   "source": [
    "print(type(rgb_colors))"
   ]
  },
  {
   "attachments": {},
   "cell_type": "markdown",
   "metadata": {},
   "source": [
    "Iterating (Looping) Through a List"
   ]
  },
  {
   "cell_type": "code",
   "execution_count": 14,
   "metadata": {},
   "outputs": [
    {
     "name": "stdout",
     "output_type": "stream",
     "text": [
      "101\n",
      "20\n",
      "10\n",
      "50\n",
      "60\n"
     ]
    }
   ],
   "source": [
    "my_list = [101, 20, 10, 50, 60]\n",
    "\n",
    "for item in my_list:\n",
    "    print(item)"
   ]
  },
  {
   "cell_type": "code",
   "execution_count": 15,
   "metadata": {},
   "outputs": [
    {
     "name": "stdout",
     "output_type": "stream",
     "text": [
      "Spoon\n",
      "Fork\n",
      "Knife\n"
     ]
    }
   ],
   "source": [
    "my_utensils = [\"Spoon\", \"Fork\", \"Knife\"]\n",
    "\n",
    "for item in my_utensils:\n",
    "    print(item)"
   ]
  },
  {
   "cell_type": "code",
   "execution_count": 16,
   "metadata": {},
   "outputs": [
    {
     "name": "stdout",
     "output_type": "stream",
     "text": [
      "[2, 3]\n",
      "[4, 3]\n",
      "[6, 7]\n"
     ]
    }
   ],
   "source": [
    "my_list = [[2, 3], [4, 3], [6, 7]]\n",
    "\n",
    "for item in my_list:\n",
    "    print(item)"
   ]
  },
  {
   "cell_type": "code",
   "execution_count": 19,
   "metadata": {},
   "outputs": [
    {
     "name": "stdout",
     "output_type": "stream",
     "text": [
      "2\n",
      "3\n",
      "4\n",
      "3\n",
      "6\n",
      "7\n"
     ]
    }
   ],
   "source": [
    "for item in my_list:\n",
    "    for num in item:\n",
    "        print(num)"
   ]
  },
  {
   "cell_type": "code",
   "execution_count": 20,
   "metadata": {},
   "outputs": [
    {
     "name": "stdout",
     "output_type": "stream",
     "text": [
      "101\n",
      "20\n",
      "10\n",
      "50\n",
      "60\n"
     ]
    }
   ],
   "source": [
    "my_list = [101, 20, 10, 50, 60]\n",
    "for index in range(len(my_list)):\n",
    "    print(my_list[index])\n"
   ]
  },
  {
   "cell_type": "code",
   "execution_count": 22,
   "metadata": {},
   "outputs": [
    {
     "name": "stdout",
     "output_type": "stream",
     "text": [
      "[101, 20, 10, 50, 60]\n",
      "[1, 2, 3, 4, 5]\n"
     ]
    }
   ],
   "source": [
    "my_list1 = [101, 20, 10, 50, 60]\n",
    "my_list2 = [1, 2, 3, 4, 5]\n",
    "\n",
    "print(my_list1)\n",
    "for index in range(len(my_list1)):\n",
    "    my_list1[index] = my_list2[index]\n",
    "print(my_list1)"
   ]
  },
  {
   "attachments": {},
   "cell_type": "markdown",
   "metadata": {},
   "source": [
    "### **Looping With Both An Index And Element**"
   ]
  },
  {
   "cell_type": "code",
   "execution_count": 23,
   "metadata": {},
   "outputs": [
    {
     "name": "stdout",
     "output_type": "stream",
     "text": [
      "0 101\n",
      "1 20\n",
      "2 10\n",
      "3 50\n",
      "4 60\n"
     ]
    }
   ],
   "source": [
    "for index, value in enumerate(my_list):\n",
    "    print(index, value)"
   ]
  },
  {
   "attachments": {},
   "cell_type": "markdown",
   "metadata": {},
   "source": [
    "### **Adding to a List**"
   ]
  },
  {
   "cell_type": "code",
   "execution_count": 24,
   "metadata": {},
   "outputs": [
    {
     "name": "stdout",
     "output_type": "stream",
     "text": [
      "[2, 4, 5, 6]\n",
      "[2, 4, 5, 6, 9]\n"
     ]
    }
   ],
   "source": [
    "my_list = [2, 4, 5, 6]\n",
    "print(my_list)\n",
    "\n",
    "my_list.append(9)\n",
    "print(my_list)"
   ]
  },
  {
   "cell_type": "code",
   "execution_count": 25,
   "metadata": {},
   "outputs": [],
   "source": [
    "# Create an empty list\n",
    "my_list = []\n",
    "\n",
    "for i in range(5):\n",
    "    user_input = input(\"Enter an integer: \")\n",
    "    user_input = int(user_input)\n",
    "    my_list.append(user_input)\n",
    "    print(my_list)"
   ]
  },
  {
   "cell_type": "code",
   "execution_count": 3,
   "metadata": {},
   "outputs": [
    {
     "name": "stdout",
     "output_type": "stream",
     "text": [
      "[0, 0, 0, 0, 0, 0, 0, 0, 0, 0, 0, 0, 0, 0, 0, 0, 0, 0, 0, 0, 0, 0, 0, 0, 0, 0, 0, 0, 0, 0, 0, 0, 0, 0, 0, 0, 0, 0, 0, 0, 0, 0, 0, 0, 0, 0, 0, 0, 0, 0, 0, 0, 0, 0, 0, 0, 0, 0, 0, 0, 0, 0, 0, 0, 0, 0, 0, 0, 0, 0, 0, 0, 0, 0, 0, 0, 0, 0, 0, 0, 0, 0, 0, 0, 0, 0, 0, 0, 0, 0, 0, 0, 0, 0, 0, 0, 0, 0, 0, 0]\n"
     ]
    }
   ],
   "source": [
    "# Create an array with 100 zeros.\n",
    "my_list = [0] * 100\n",
    "print(my_list)"
   ]
  },
  {
   "attachments": {},
   "cell_type": "markdown",
   "metadata": {},
   "source": [
    "### **Summing or Modifying a List**"
   ]
  },
  {
   "cell_type": "code",
   "execution_count": 4,
   "metadata": {},
   "outputs": [
    {
     "name": "stdout",
     "output_type": "stream",
     "text": [
      "184\n"
     ]
    }
   ],
   "source": [
    "# Copy of the array to sum\n",
    "my_list = [5, 76, 8, 5, 3, 3, 56, 5, 23]\n",
    "\n",
    "# Initial sum should be zero\n",
    "list_total = 0\n",
    "\n",
    "# Loop from 0 up to the number of elements\n",
    "# in the array:\n",
    "for index in range(len(my_list)):\n",
    "    # Add element 0, next 1, then 2, etc.\n",
    "    list_total += my_list[index]\n",
    "\n",
    "# Print the result\n",
    "print(list_total)"
   ]
  },
  {
   "cell_type": "code",
   "execution_count": 5,
   "metadata": {},
   "outputs": [
    {
     "name": "stdout",
     "output_type": "stream",
     "text": [
      "55\n"
     ]
    }
   ],
   "source": [
    "# Copy of the array to sum\n",
    "my_list = [1, 2, 3, 4, 5, 6, 7, 8, 9, 10]\n",
    "\n",
    "# Initial sum should be zero\n",
    "list_total = 0\n",
    "\n",
    "# Loop through array, copying each item in the array into\n",
    "# the variable named item.\n",
    "\n",
    "for item in my_list:\n",
    "    # Add each item\n",
    "    list_total += item\n",
    "\n",
    "# Print the result\n",
    "print(list_total)"
   ]
  },
  {
   "cell_type": "code",
   "execution_count": 6,
   "metadata": {},
   "outputs": [
    {
     "name": "stdout",
     "output_type": "stream",
     "text": [
      "[4, 6, 8, 16, 2, 4, 8, 10]\n"
     ]
    }
   ],
   "source": [
    "# Copy of the array to modify\n",
    "my_list = [2, 3, 4, 8, 1, 2, 4, 5]\n",
    "\n",
    "# Loop from 0 up to the number of elements\n",
    "# in the array:\n",
    "for index in range(len(my_list)):\n",
    "    # Modify the element by doubling it\n",
    "    my_list[index] = my_list[index] * 2\n",
    "\n",
    "# Print the result\n",
    "print(my_list)"
   ]
  },
  {
   "cell_type": "code",
   "execution_count": 10,
   "metadata": {},
   "outputs": [
    {
     "name": "stdout",
     "output_type": "stream",
     "text": [
      "[5, 76, 8, 5, 3, 3, 56, 5, 23]\n",
      "[10, 152, 16, 10, 6, 6, 112, 10, 46]\n"
     ]
    }
   ],
   "source": [
    "# Copy of the array to modify\n",
    "my_list = [5, 76, 8, 5, 3, 3, 56, 5, 23]\n",
    "my_list2 = []\n",
    "\n",
    "# Loop through each element in myArray\n",
    "for item in my_list:\n",
    "    # This doubles item, but does not change the array\n",
    "    # because item is a copy of a single element.\n",
    "    item = item * 2\n",
    "    my_list2.append(item) # But we can create a new list then append the item\n",
    "\n",
    "# Print the result\n",
    "print(my_list)\n",
    "print(my_list2)\n"
   ]
  },
  {
   "attachments": {},
   "cell_type": "markdown",
   "metadata": {},
   "source": [
    "### **Slicing Strings**"
   ]
  },
  {
   "cell_type": "code",
   "execution_count": 12,
   "metadata": {},
   "outputs": [
    {
     "name": "stdout",
     "output_type": "stream",
     "text": [
      "x = This is a sample string\n",
      "x[0] = T\n",
      "x[1] = h\n",
      "x[-1] = g\n",
      "x[:6] = This i\n",
      "x[6:] = s a sample string\n",
      "x[6:9] = s a\n"
     ]
    }
   ],
   "source": [
    "x = \"This is a sample string\"\n",
    "#x = \"0123456789\"\n",
    "\n",
    "print(\"x =\", x)\n",
    "\n",
    "# Accessing the first character (\"T\")\n",
    "print(\"x[0] =\", x[0])\n",
    "\n",
    "# Accessing the second character (\"h\")\n",
    "print(\"x[1] =\", x[1])\n",
    "\n",
    "# Accessing the right side (\"g\")\n",
    "print(\"x[-1] =\", x[-1])\n",
    "\n",
    "# Access 0-5 (\"This \")\n",
    "print(\"x[:6] =\", x[:6])\n",
    "\n",
    "# Access 6 to the end (\"is a sample string\")\n",
    "print(\"x[6:] =\", x[6:])\n",
    "\n",
    "# Access 6-8\n",
    "print(\"x[6:9] =\", x[6:9])"
   ]
  },
  {
   "cell_type": "code",
   "execution_count": 14,
   "metadata": {},
   "outputs": [
    {
     "name": "stdout",
     "output_type": "stream",
     "text": [
      "HiThere\n",
      "HiThere!\n",
      "HiHiHi\n",
      "HiHiHi\n",
      "HiHiThereThere\n"
     ]
    }
   ],
   "source": [
    "a = \"Hi\"\n",
    "b = \"There\"\n",
    "c = \"!\"\n",
    "\n",
    "print(a + b)\n",
    "print(a + b + c)\n",
    "print(3 * a)\n",
    "print(a * 3)\n",
    "print((a * 2) + (b * 2))"
   ]
  },
  {
   "cell_type": "code",
   "execution_count": 15,
   "metadata": {},
   "outputs": [
    {
     "name": "stdout",
     "output_type": "stream",
     "text": [
      "8\n",
      "8\n"
     ]
    }
   ],
   "source": [
    "a = \"Hi There\"\n",
    "print(len(a))\n",
    "\n",
    "b = [3, 4, 5, 6, 76, 4, 3, 3]\n",
    "print(len(b))"
   ]
  },
  {
   "cell_type": "code",
   "execution_count": 16,
   "metadata": {},
   "outputs": [
    {
     "name": "stdout",
     "output_type": "stream",
     "text": [
      "T\n",
      "h\n",
      "i\n",
      "s\n",
      " \n",
      "i\n",
      "s\n",
      " \n",
      "a\n",
      " \n",
      "t\n",
      "e\n",
      "s\n",
      "t\n",
      ".\n"
     ]
    }
   ],
   "source": [
    "for character in \"This is a test.\":\n",
    "    print(character)"
   ]
  },
  {
   "cell_type": "code",
   "execution_count": 17,
   "metadata": {},
   "outputs": [],
   "source": [
    "months = \"JanFebMarAprMayJunJulAugSepOctNovDec\"\n",
    "n = int(input(\"Enter a month number: \"))"
   ]
  },
  {
   "attachments": {},
   "cell_type": "markdown",
   "metadata": {},
   "source": [
    "### **Secret Codes**"
   ]
  },
  {
   "cell_type": "code",
   "execution_count": 1,
   "metadata": {},
   "outputs": [
    {
     "name": "stdout",
     "output_type": "stream",
     "text": [
      "T h i s   i s   a   t e s t .   A B C   a b c "
     ]
    }
   ],
   "source": [
    "plaint_text = \"This is a test. ABC abc\"\n",
    "\n",
    "for c in plaint_text:\n",
    "    print(c, end=\" \")"
   ]
  },
  {
   "cell_type": "code",
   "execution_count": 4,
   "metadata": {},
   "outputs": [
    {
     "name": "stdout",
     "output_type": "stream",
     "text": [
      "84 104 105 115 32 105 115 32 97 32 116 101 115 116 46 32 65 66 67 32 97 98 99 "
     ]
    }
   ],
   "source": [
    "plain_text = \"This is a test. ABC abc\"\n",
    "\n",
    "for c in plain_text:\n",
    "    print(ord(c), end=\" \")"
   ]
  },
  {
   "cell_type": "code",
   "execution_count": 5,
   "metadata": {},
   "outputs": [
    {
     "name": "stdout",
     "output_type": "stream",
     "text": [
      "Uijt!b!uftu/!BCD!bcd"
     ]
    }
   ],
   "source": [
    "plain_text = \"This a test. ABC abc\"\n",
    "\n",
    "for c in plain_text:\n",
    "    x = ord(c)\n",
    "    x = x + 1\n",
    "    c2 = chr(x)\n",
    "    print(c2, end=\"\")"
   ]
  },
  {
   "cell_type": "code",
   "execution_count": 6,
   "metadata": {},
   "outputs": [
    {
     "name": "stdout",
     "output_type": "stream",
     "text": [
      "Uijt!jt!b!uftu/!BCD!bcd\n"
     ]
    }
   ],
   "source": [
    "plain_text = \"This is a test. ABC abc\"\n",
    "\n",
    "encrypted_text = \"\"\n",
    "for c in plain_text:\n",
    "    x = ord(c)\n",
    "    x = x + 1\n",
    "    c2 = chr(x)\n",
    "    encrypted_text = encrypted_text + c2\n",
    "print(encrypted_text)\n"
   ]
  },
  {
   "cell_type": "code",
   "execution_count": 7,
   "metadata": {},
   "outputs": [
    {
     "name": "stdout",
     "output_type": "stream",
     "text": [
      "This is a test. ABC abc\n"
     ]
    }
   ],
   "source": [
    "encrypted_text = \"Uijt!jt!b!uftu/!BCD!bcd\"\n",
    "\n",
    "plain_text = \"\"\n",
    "for c in encrypted_text:\n",
    "    x = ord(c)\n",
    "    x = x - 1\n",
    "    c2 = chr(x)\n",
    "    plain_text = plain_text + c2\n",
    "print(plain_text)"
   ]
  },
  {
   "cell_type": "code",
   "execution_count": 8,
   "metadata": {},
   "outputs": [
    {
     "name": "stdout",
     "output_type": "stream",
     "text": [
      "Kfspnf!N/!Nbscfcf\n"
     ]
    }
   ],
   "source": [
    "my_name = \"Jerome M. Marbebe\"\n",
    "\n",
    "encrypted_text = \"\"\n",
    "for c in my_name:\n",
    "    x = ord(c)\n",
    "    x = x + 1\n",
    "    c2 = chr(x)\n",
    "    encrypted_text = encrypted_text + c2\n",
    "print(encrypted_text)"
   ]
  },
  {
   "cell_type": "code",
   "execution_count": 9,
   "metadata": {},
   "outputs": [
    {
     "name": "stdout",
     "output_type": "stream",
     "text": [
      "Jerome M. Marbebe\n"
     ]
    }
   ],
   "source": [
    "encrypted_text = \"Kfspnf!N/!Nbscfcf\"\n",
    "\n",
    "plain_text = \"\"\n",
    "for c in encrypted_text:\n",
    "    x = ord(c)\n",
    "    x = x - 1\n",
    "    c2 = chr(x)\n",
    "    plain_text = plain_text + c2\n",
    "print(plain_text)"
   ]
  },
  {
   "attachments": {},
   "cell_type": "markdown",
   "metadata": {},
   "source": [
    "### **Associative Arrays**"
   ]
  },
  {
   "cell_type": "code",
   "execution_count": 10,
   "metadata": {},
   "outputs": [
    {
     "name": "stdout",
     "output_type": "stream",
     "text": [
      "2\n"
     ]
    }
   ],
   "source": [
    "x = {}\n",
    "\n",
    "x[\"fred\"] = 2\n",
    "x[\"scooby\"] = 8\n",
    "x[\"wilma\"] = 1\n",
    "\n",
    "print(x[\"fred\"])"
   ]
  },
  {
   "attachments": {},
   "cell_type": "markdown",
   "metadata": {},
   "source": [
    "### **Classes Constructors, and Attributes**"
   ]
  },
  {
   "attachments": {},
   "cell_type": "markdown",
   "metadata": {},
   "source": [
    "#### **Defining the Class**"
   ]
  },
  {
   "cell_type": "code",
   "execution_count": null,
   "metadata": {},
   "outputs": [],
   "source": [
    "class Character:\n",
    "    \"\"\"\n",
    "    This is a class that rerpesents the player character.\n",
    "    \"\"\""
   ]
  },
  {
   "attachments": {},
   "cell_type": "markdown",
   "metadata": {},
   "source": [
    "#### **Defining the Init Function**\n",
    "\n",
    "#### Key Points\n",
    "> The __init__ method creates our attributes (variables) and set them to default values. <br>\n",
    "> Any function in a class is called a method. <br>\n",
    "> The initialization method is a magic method. <br>\n",
    "> A method is magic if it has surrounded by double underscores. <br>\n",
    "> The short-name for double underline is dunder, and these magic methods are also known as dunder methods."
   ]
  },
  {
   "cell_type": "code",
   "execution_count": 1,
   "metadata": {},
   "outputs": [],
   "source": [
    "class Character:\n",
    "    \"\"\"\n",
    "    This is a class that represents the player character.\n",
    "    \"\"\"\n",
    "    def __init__(self):\n",
    "        \"\"\" This is method that sets up the variables in the object. \"\"\""
   ]
  },
  {
   "attachments": {},
   "cell_type": "markdown",
   "metadata": {},
   "source": [
    "#### **Defining Class Attributes**"
   ]
  },
  {
   "attachments": {},
   "cell_type": "markdown",
   "metadata": {},
   "source": [
    "#### Key Points\n",
    "\n",
    "> __init__ is a special method that can also be referred to as a constructor."
   ]
  },
  {
   "cell_type": "code",
   "execution_count": 1,
   "metadata": {},
   "outputs": [],
   "source": [
    "class Character:\n",
    "    \"\"\"\n",
    "    This is a class that represents the player character.\n",
    "    \"\"\"\n",
    "    def __init__(self):\n",
    "        \"\"\"This is a method that sets up the variables in the object.\"\"\"\n",
    "        self.name = \"\"\n",
    "        self.outfit = \"\"\n",
    "        self.max_hit_points = 0\n",
    "        self.current_hit_points = 0\n",
    "        self.armor_amount = 0\n",
    "        self.max_speed = 0"
   ]
  },
  {
   "attachments": {},
   "cell_type": "markdown",
   "metadata": {},
   "source": [
    "> The self. is kind of like the prounoun ***my***. "
   ]
  },
  {
   "cell_type": "code",
   "execution_count": 3,
   "metadata": {},
   "outputs": [],
   "source": [
    "class Address:\n",
    "    \"\"\"Holds all the fields for a mailing address.\"\"\"\n",
    "    def __init_(self):\n",
    "        \"\"\"Set up the address fields.\"\"\"\n",
    "        self.name = \"\"\n",
    "        self.line1 = \"\"\n",
    "        self.line2 = \"\"\n",
    "        self.city = \"\"\n",
    "        self.state = \"\"\n",
    "        self.zip = \"\""
   ]
  },
  {
   "attachments": {},
   "cell_type": "markdown",
   "metadata": {},
   "source": [
    "### **Creating Objects**"
   ]
  },
  {
   "cell_type": "code",
   "execution_count": 4,
   "metadata": {},
   "outputs": [
    {
     "name": "stdout",
     "output_type": "stream",
     "text": [
      "The client's main home is in Indianola\n",
      "His vacation home is in Panama City Beach\n"
     ]
    }
   ],
   "source": [
    "def main():\n",
    "    # Create an address\n",
    "    home_address = Address()\n",
    "\n",
    "    # Set the fields in the address\n",
    "    home_address.name = \"John Smith\"\n",
    "    home_address.line1 = \"701 N. C Street\"\n",
    "    home_address.line2 = \"Carver Science Building\"\n",
    "    home_address.city = \"Indianola\"\n",
    "    home_address.state = \"IA\"\n",
    "    home_address.zip = \"50125\"\n",
    "\n",
    "    # Create another address\n",
    "    vacation_home_address = Address()\n",
    "\n",
    "    # Set the fields in the address\n",
    "    vacation_home_address.name = \"John Smith\"\n",
    "    vacation_home_address.line1 = \"1122 Main Street\"\n",
    "    vacation_home_address.line2 = \"\"\n",
    "    vacation_home_address.city = \"Panama City Beach\"\n",
    "    vacation_home_address.state = \"FL\"\n",
    "    vacation_home_address.zip = \"32407\"\n",
    "\n",
    "    print(\"The client's main home is in \" + home_address.city)\n",
    "    print(\"His vacation home is in \" + vacation_home_address.city)\n",
    "\n",
    "main()\n"
   ]
  },
  {
   "attachments": {},
   "cell_type": "markdown",
   "metadata": {},
   "source": [
    "### **Using Objects in Function**"
   ]
  },
  {
   "cell_type": "code",
   "execution_count": 7,
   "metadata": {},
   "outputs": [
    {
     "name": "stdout",
     "output_type": "stream",
     "text": [
      "John Smith\n",
      "701 N. C Street\n",
      "Carver Science Building\n",
      "Indianola, IA 50125\n",
      "\n",
      "John Smith\n",
      "1122 Main Street\n",
      "Panama City Beach, FL 32407\n"
     ]
    }
   ],
   "source": [
    "def print_address(address):\n",
    "    \"\"\" Print an adress to the screen \"\"\"\n",
    "\n",
    "    print(address.name)\n",
    "    # If there is a line1 in the address, print it\n",
    "    if len(address.line1) > 0:\n",
    "        print(address.line1)\n",
    "    # If there is a line 2 in the address, print it\n",
    "    if len(address.line2) > 0:\n",
    "        print(address.line2)\n",
    "    print(address.city + \", \" + address.state + \" \" + address.zip)\n",
    "\n",
    "def main():\n",
    "    # Create an address\n",
    "    home_address = Address()\n",
    "\n",
    "    # Set the fields in the address\n",
    "    home_address.name = \"John Smith\"\n",
    "    home_address.line1 = \"701 N. C Street\"\n",
    "    home_address.line2 = \"Carver Science Building\"\n",
    "    home_address.city = \"Indianola\"\n",
    "    home_address.state = \"IA\"\n",
    "    home_address.zip = \"50125\"\n",
    "\n",
    "    # Create another address\n",
    "    vacation_home_address = Address()\n",
    "\n",
    "    # Set the fields in the address\n",
    "    vacation_home_address.name = \"John Smith\"\n",
    "    vacation_home_address.line1 = \"1122 Main Street\"\n",
    "    vacation_home_address.line2 = \"\"\n",
    "    vacation_home_address.city = \"Panama City Beach\"\n",
    "    vacation_home_address.state = \"FL\"\n",
    "    vacation_home_address.zip = \"32407\"\n",
    "\n",
    "    print_address(home_address)\n",
    "    print()\n",
    "    print_address(vacation_home_address)\n",
    "\n",
    "main()"
   ]
  },
  {
   "attachments": {},
   "cell_type": "markdown",
   "metadata": {},
   "source": [
    "### **Customizing the Constructor**"
   ]
  },
  {
   "cell_type": "code",
   "execution_count": 4,
   "metadata": {},
   "outputs": [
    {
     "name": "stdout",
     "output_type": "stream",
     "text": [
      "The dog's name is: \n"
     ]
    }
   ],
   "source": [
    "class Dog():\n",
    "    def __init__(self):\n",
    "        \"\"\"Constructor\"\"\"\n",
    "        self.name = \"\"\n",
    "\n",
    "def main():\n",
    "    # This creates the dog\n",
    "    my_dog = Dog()\n",
    "    print(f\"The dog's name is: {my_dog.name}\")\n",
    "\n",
    "main()"
   ]
  },
  {
   "cell_type": "code",
   "execution_count": 6,
   "metadata": {},
   "outputs": [
    {
     "name": "stdout",
     "output_type": "stream",
     "text": [
      "A new dog is born!\n",
      "The dog's name is Fluffy\n"
     ]
    }
   ],
   "source": [
    "class Dog():\n",
    "    def __init__(self, new_name):\n",
    "        \"\"\"Contructor\"\"\"\n",
    "        self.name = new_name\n",
    "        print(\"A new dog is born!\")\n",
    "\n",
    "def main():\n",
    "    # This creates the dog\n",
    "    my_dog = Dog(\"Fluffy\")\n",
    "    print(f\"The dog's name is {my_dog.name}\")\n",
    "\n",
    "main()"
   ]
  },
  {
   "attachments": {},
   "cell_type": "markdown",
   "metadata": {},
   "source": [
    "### **Address Class With the Init Parameters**"
   ]
  },
  {
   "cell_type": "code",
   "execution_count": 10,
   "metadata": {},
   "outputs": [
    {
     "name": "stdout",
     "output_type": "stream",
     "text": [
      "701 N. C Steret\n",
      "Carver Science Building\n",
      "Indianola\n",
      "USA\n",
      "50125\n"
     ]
    }
   ],
   "source": [
    "class Address:\n",
    "    def __init__(self, line1, line2, city, state, zip, country):\n",
    "        self.line1 = line1\n",
    "        self.line2 = line2\n",
    "        self.city = city\n",
    "        self.state = state\n",
    "        self.zip = zip\n",
    "        self.country = country\n",
    "\n",
    "def main():\n",
    "    # This creates the address\n",
    "    my_address = Address(\"701 N. C Steret\", \n",
    "                         \"Carver Science Building\",\n",
    "                         \"Indianola\",\n",
    "                         \"IA\",\n",
    "                         \"50125\",\n",
    "                         \"USA\"\n",
    "                         )\n",
    "    \n",
    "    print(my_address.line1)\n",
    "    print(my_address.line2)\n",
    "    print(my_address.city)\n",
    "    print(my_address.country)\n",
    "    print(my_address.zip)\n",
    "\n",
    "main()"
   ]
  },
  {
   "attachments": {},
   "cell_type": "markdown",
   "metadata": {},
   "source": [
    "### **Typing Attributes**"
   ]
  },
  {
   "cell_type": "code",
   "execution_count": 11,
   "metadata": {},
   "outputs": [],
   "source": [
    "class Person:\n",
    "    def __init__(self):\n",
    "        self.name: str = \"A\"\n",
    "\n",
    "mary = Person()\n",
    "mary.name = 22"
   ]
  },
  {
   "cell_type": "markdown",
   "metadata": {},
   "source": [
    "### **Data Classes**"
   ]
  },
  {
   "cell_type": "code",
   "execution_count": 2,
   "metadata": {},
   "outputs": [],
   "source": [
    "from dataclasses import dataclass\n",
    "\n",
    "@dataclass\n",
    "class Address:\n",
    "    name: str = \"\"\n",
    "    line1: str = \"\"\n",
    "    line2: str = \"\"\n",
    "    city: str = \"\"\n",
    "    state: str = \"\"\n",
    "    zip_code: str = \"\"\n",
    "\n"
   ]
  },
  {
   "cell_type": "markdown",
   "metadata": {},
   "source": [
    "### **Static Variables**"
   ]
  },
  {
   "cell_type": "code",
   "execution_count": 4,
   "metadata": {},
   "outputs": [
    {
     "name": "stdout",
     "output_type": "stream",
     "text": [
      "The cat population is: 3\n",
      "The cat population is: 3\n"
     ]
    }
   ],
   "source": [
    "class Cat:\n",
    "    population = 0\n",
    "\n",
    "    def __init__(self, name):\n",
    "        self.name = name\n",
    "        Cat.population += 1\n",
    "\n",
    "def main():\n",
    "    cat1 = Cat(\"Pat\")\n",
    "    cat2 = Cat(\"Pepper\")\n",
    "    cat3 = Cat(\"Pouncy\")\n",
    "\n",
    "    print(\"The cat population is:\", Cat.population)\n",
    "    print(\"The cat population is:\", cat1.population)\n",
    "\n",
    "main()"
   ]
  },
  {
   "cell_type": "code",
   "execution_count": null,
   "metadata": {},
   "outputs": [],
   "source": []
  }
 ],
 "metadata": {
  "kernelspec": {
   "display_name": "Python 3",
   "language": "python",
   "name": "python3"
  },
  "language_info": {
   "codemirror_mode": {
    "name": "ipython",
    "version": 3
   },
   "file_extension": ".py",
   "mimetype": "text/x-python",
   "name": "python",
   "nbconvert_exporter": "python",
   "pygments_lexer": "ipython3",
   "version": "3.9.7"
  },
  "orig_nbformat": 4
 },
 "nbformat": 4,
 "nbformat_minor": 2
}
