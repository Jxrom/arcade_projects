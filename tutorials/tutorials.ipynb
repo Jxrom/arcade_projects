{
 "cells": [
  {
   "cell_type": "code",
   "execution_count": 1,
   "metadata": {},
   "outputs": [
    {
     "name": "stdout",
     "output_type": "stream",
     "text": [
      "31\n",
      "131\n"
     ]
    }
   ],
   "source": [
    "import random\n",
    "\n",
    "# Random number range from 1-49\n",
    "my_number = random.randrange(50)\n",
    "\n",
    "# Random number range from 100-200\n",
    "my_number2 = random.randrange(100, 201)\n",
    "\n",
    "print(my_number)\n",
    "print(my_number2)"
   ]
  },
  {
   "cell_type": "code",
   "execution_count": 2,
   "metadata": {},
   "outputs": [
    {
     "name": "stdout",
     "output_type": "stream",
     "text": [
      "No Dragon. :(\n",
      "DRAGON!!!\n",
      "No Dragon. :(\n",
      "No Dragon. :(\n",
      "No Dragon. :(\n",
      "DRAGON!!!\n",
      "DRAGON!!!\n",
      "No Dragon. :(\n",
      "No Dragon. :(\n",
      "No Dragon. :(\n",
      "No Dragon. :(\n",
      "No Dragon. :(\n",
      "No Dragon. :(\n",
      "No Dragon. :(\n",
      "No Dragon. :(\n",
      "No Dragon. :(\n",
      "No Dragon. :(\n",
      "DRAGON!!!\n",
      "No Dragon. :(\n",
      "No Dragon. :(\n"
     ]
    }
   ],
   "source": [
    "\n",
    "# 25% change of meeting the dragon\n",
    "for i in range(20):\n",
    "    if random.randrange(5) == 0:\n",
    "        print(\"DRAGON!!!\")\n",
    "    else:\n",
    "        print(\"No Dragon. :(\")"
   ]
  },
  {
   "cell_type": "code",
   "execution_count": 3,
   "metadata": {},
   "outputs": [
    {
     "name": "stdout",
     "output_type": "stream",
     "text": [
      "0.21182576223799854\n"
     ]
    }
   ],
   "source": [
    "# Random float number\n",
    "my_number3 = random.random()\n",
    "\n",
    "print(my_number3)"
   ]
  },
  {
   "cell_type": "code",
   "execution_count": 4,
   "metadata": {},
   "outputs": [
    {
     "name": "stdout",
     "output_type": "stream",
     "text": [
      "10.475691780236712\n"
     ]
    }
   ],
   "source": [
    "my_number4 = random.random() * 5 + 10\n",
    "\n",
    "print(my_number4)"
   ]
  },
  {
   "attachments": {},
   "cell_type": "markdown",
   "metadata": {},
   "source": [
    "### **Advance Looping**"
   ]
  },
  {
   "cell_type": "code",
   "execution_count": 16,
   "metadata": {},
   "outputs": [
    {
     "name": "stdout",
     "output_type": "stream",
     "text": [
      "* * * * * * * * * * "
     ]
    }
   ],
   "source": [
    "for i in range(10):\n",
    "    print(\"*\", end=\" \")"
   ]
  },
  {
   "cell_type": "code",
   "execution_count": 15,
   "metadata": {},
   "outputs": [
    {
     "name": "stdout",
     "output_type": "stream",
     "text": [
      "* * * * * * * * * * \n",
      "* * * * * \n",
      "* * * * * * * * * * * * * * * * * * * * "
     ]
    }
   ],
   "source": [
    "for i in range(10):\n",
    "    print(\"*\", end=\" \")\n",
    "print()\n",
    "for i in range(5):\n",
    "    print(\"*\", end=\" \")\n",
    "print()\n",
    "for i in range(20):\n",
    "    print(\"*\", end=\" \")"
   ]
  },
  {
   "cell_type": "code",
   "execution_count": 14,
   "metadata": {},
   "outputs": [
    {
     "name": "stdout",
     "output_type": "stream",
     "text": [
      "\n",
      "* * * * * * * * * * \n",
      "* * * * * * * * * * \n",
      "* * * * * * * * * * \n",
      "* * * * * * * * * * \n",
      "* * * * * * * * * * \n",
      "* * * * * * * * * * \n",
      "* * * * * * * * * * \n",
      "* * * * * * * * * * \n",
      "* * * * * * * * * * \n",
      "* * * * * * * * * * "
     ]
    }
   ],
   "source": [
    "for i in range(10):\n",
    "    print()\n",
    "    for i in range(10):  \n",
    "        print(\"*\", end=\" \")"
   ]
  },
  {
   "cell_type": "code",
   "execution_count": 13,
   "metadata": {},
   "outputs": [
    {
     "name": "stdout",
     "output_type": "stream",
     "text": [
      "\n",
      "* * * * * \n",
      "* * * * * \n",
      "* * * * * \n",
      "* * * * * \n",
      "* * * * * \n",
      "* * * * * \n",
      "* * * * * \n",
      "* * * * * \n",
      "* * * * * \n",
      "* * * * * "
     ]
    }
   ],
   "source": [
    "for i in range(10):\n",
    "    print()\n",
    "    for i in range(5):  \n",
    "        print(\"*\", end=\" \")"
   ]
  },
  {
   "cell_type": "code",
   "execution_count": 12,
   "metadata": {},
   "outputs": [
    {
     "name": "stdout",
     "output_type": "stream",
     "text": [
      "\n",
      "* * * * * * * * * * * * * * * * * * * * \n",
      "* * * * * * * * * * * * * * * * * * * * \n",
      "* * * * * * * * * * * * * * * * * * * * \n",
      "* * * * * * * * * * * * * * * * * * * * \n",
      "* * * * * * * * * * * * * * * * * * * * "
     ]
    }
   ],
   "source": [
    "for i in range(5):\n",
    "    print()\n",
    "    for i in range(20):  \n",
    "        print(\"*\", end=\" \")"
   ]
  },
  {
   "cell_type": "code",
   "execution_count": 19,
   "metadata": {},
   "outputs": [
    {
     "name": "stdout",
     "output_type": "stream",
     "text": [
      "\n",
      "0 1 2 3 4 5 6 7 8 9 \n",
      "0 1 2 3 4 5 6 7 8 9 \n",
      "0 1 2 3 4 5 6 7 8 9 \n",
      "0 1 2 3 4 5 6 7 8 9 \n",
      "0 1 2 3 4 5 6 7 8 9 \n",
      "0 1 2 3 4 5 6 7 8 9 \n",
      "0 1 2 3 4 5 6 7 8 9 \n",
      "0 1 2 3 4 5 6 7 8 9 \n",
      "0 1 2 3 4 5 6 7 8 9 \n",
      "0 1 2 3 4 5 6 7 8 9 "
     ]
    }
   ],
   "source": [
    "for i in range(10):\n",
    "    print()\n",
    "    for j in range(10):\n",
    "        print(j, end=\" \")"
   ]
  },
  {
   "cell_type": "code",
   "execution_count": 20,
   "metadata": {},
   "outputs": [
    {
     "name": "stdout",
     "output_type": "stream",
     "text": [
      "\n",
      "0 0 0 0 0 0 0 0 0 0 \n",
      "1 1 1 1 1 1 1 1 1 1 \n",
      "2 2 2 2 2 2 2 2 2 2 \n",
      "3 3 3 3 3 3 3 3 3 3 \n",
      "4 4 4 4 4 4 4 4 4 4 \n",
      "5 5 5 5 5 5 5 5 5 5 \n",
      "6 6 6 6 6 6 6 6 6 6 \n",
      "7 7 7 7 7 7 7 7 7 7 \n",
      "8 8 8 8 8 8 8 8 8 8 \n",
      "9 9 9 9 9 9 9 9 9 9 "
     ]
    }
   ],
   "source": [
    "for i in range(10):\n",
    "    print()\n",
    "    for j in range(10):\n",
    "        print(i, end=\" \")"
   ]
  },
  {
   "cell_type": "code",
   "execution_count": 26,
   "metadata": {},
   "outputs": [
    {
     "name": "stdout",
     "output_type": "stream",
     "text": [
      "\n",
      "0 \n",
      "0 1 \n",
      "0 1 2 \n",
      "0 1 2 3 \n",
      "0 1 2 3 4 \n",
      "0 1 2 3 4 5 \n",
      "0 1 2 3 4 5 6 \n",
      "0 1 2 3 4 5 6 7 \n",
      "0 1 2 3 4 5 6 7 8 \n",
      "0 1 2 3 4 5 6 7 8 9 "
     ]
    }
   ],
   "source": [
    "for i in range(10):\n",
    "    print()\n",
    "    for j in range(i+1):\n",
    "        print(j, end=\" \")"
   ]
  },
  {
   "cell_type": "code",
   "execution_count": 33,
   "metadata": {},
   "outputs": [
    {
     "name": "stdout",
     "output_type": "stream",
     "text": [
      "0 1 2 3 4 5 6 7 8 9 \n",
      "  0 1 2 3 4 5 6 7 8 \n",
      "    0 1 2 3 4 5 6 7 \n",
      "      0 1 2 3 4 5 6 \n",
      "        0 1 2 3 4 5 \n",
      "          0 1 2 3 4 \n",
      "            0 1 2 3 \n",
      "              0 1 2 \n",
      "                0 1 \n",
      "                  0 \n"
     ]
    }
   ],
   "source": [
    "for i in range(10):\n",
    "    for j in range(i):\n",
    "          print(\" \", end=\" \")\n",
    "    for j in range(10 - i):\n",
    "            print(j, end=\" \")\n",
    "    print()"
   ]
  },
  {
   "cell_type": "code",
   "execution_count": null,
   "metadata": {},
   "outputs": [],
   "source": []
  }
 ],
 "metadata": {
  "kernelspec": {
   "display_name": "Python 3",
   "language": "python",
   "name": "python3"
  },
  "language_info": {
   "codemirror_mode": {
    "name": "ipython",
    "version": 3
   },
   "file_extension": ".py",
   "mimetype": "text/x-python",
   "name": "python",
   "nbconvert_exporter": "python",
   "pygments_lexer": "ipython3",
   "version": "3.9.7"
  },
  "orig_nbformat": 4
 },
 "nbformat": 4,
 "nbformat_minor": 2
}
